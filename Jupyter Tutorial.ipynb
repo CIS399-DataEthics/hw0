{
 "cells": [
  {
   "cell_type": "markdown",
   "metadata": {},
   "source": [
    "## Jupyter Tutorial"
   ]
  },
  {
   "cell_type": "markdown",
   "metadata": {},
   "source": [
    "Edit the cell below to produce a figure which is modified in the following ways:  \n",
    "\n",
    "1. The  text (which says “CIS 399 student”) should be your Pennkey (eniac login ID).\n",
    "2. The number of values sampled should be 150, with the corresponding change to the figure title.\n",
    "3. The x-axis should be labeled “Sample number”.\n",
    "\n",
    "You may run the cells repeatedly to check your work. In grading, we run all of your cells in order, so before submitting your homework, it is a good idea to \"Restart & Run All\"  from the Kernel menu and make sure there are no errors."
   ]
  },
  {
   "cell_type": "code",
   "execution_count": 17,
   "metadata": {},
   "outputs": [
    {
     "data": {
      "image/png": "[encoded data removed]",
      "text/plain": [
       "<matplotlib.figure.Figure at 0x7f3cf785abe0>"
      ]
     },
     "metadata": {},
     "output_type": "display_data"
    }
   ],
   "source": [
    "# We’ll be using Matplotlib to plot a visualization\n",
    "%matplotlib inline\n",
    "\n",
    "import matplotlib.pyplot as plt\n",
    "import numpy as np\n",
    "import random\n",
    "\n",
    "# Sample 100 random values from [0,1]\n",
    "y = np.array([random.random() for i in range(100)])\n",
    "# Create an array with the indices\n",
    "x = np.array(range(len(y)))\n",
    "\n",
    "# Create a plot with a caption, X and Y legends, etc\n",
    "x_label = 'Sample no'\n",
    "y_label = 'Value'\n",
    "student = 'CIS 399 student'\n",
    "\n",
    "plt.title(str(len(y)) + ' random values')\n",
    "plt.xlabel(x_label)\n",
    "plt.ylabel(y_label)\n",
    "plt.figtext(0.995, 0.01, student, ha='right', va='bottom')\n",
    "# Scatter plot that fits within the box\n",
    "plt.scatter(x, y)\n",
    "plt.tight_layout()\n",
    "\n",
    "# Now fit a trend line to the data and plot it over the scatter plot\n",
    "m, c = np.polyfit(x, y, 1)\n",
    "plt.plot(x, m*x + c)\n",
    "\n",
    "# Save the SVG\n",
    "plt.savefig('tutorial.svg')"
   ]
  },
  {
   "cell_type": "code",
   "execution_count": 14,
   "metadata": {},
   "outputs": [
    {
     "name": "stdout",
     "output_type": "stream",
     "text": [
      "Your PennKey is: CIS 399 student\n"
     ]
    }
   ],
   "source": [
    "print(\"Your PennKey is:\", student)"
   ]
  },
  {
   "cell_type": "code",
   "execution_count": 15,
   "metadata": {},
   "outputs": [
    {
     "name": "stdout",
     "output_type": "stream",
     "text": [
      "You have sampled 100 points.\n"
     ]
    }
   ],
   "source": [
    "print(\"You have sampled\", len(y), \"points.\")"
   ]
  },
  {
   "cell_type": "code",
   "execution_count": 16,
   "metadata": {},
   "outputs": [
    {
     "name": "stdout",
     "output_type": "stream",
     "text": [
      "The label on the x-axis says: Sample no\n"
     ]
    }
   ],
   "source": [
    "print(\"The label on the x-axis says:\", x_label)"
   ]
  },
  {
   "cell_type": "code",
   "execution_count": null,
   "metadata": {},
   "outputs": [],
   "source": []
  }
 ],
 "metadata": {
  "kernelspec": {
   "display_name": "Python 3",
   "language": "python",
   "name": "python3"
  },
  "language_info": {
   "codemirror_mode": {
    "name": "ipython",
    "version": 3
   },
   "file_extension": ".py",
   "mimetype": "text/x-python",
   "name": "python",
   "nbconvert_exporter": "python",
   "pygments_lexer": "ipython3",
   "version": "3.6.3"
  }
 },
 "nbformat": 4,
 "nbformat_minor": 2
}
